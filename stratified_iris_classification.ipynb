{
  "nbformat": 4,
  "nbformat_minor": 0,
  "metadata": {
    "colab": {
      "provenance": [],
      "authorship_tag": "ABX9TyP5PT0lVTxwIyTV4Elv72XY",
      "include_colab_link": true
    },
    "kernelspec": {
      "name": "python3",
      "display_name": "Python 3"
    },
    "language_info": {
      "name": "python"
    }
  },
  "cells": [
    {
      "cell_type": "markdown",
      "metadata": {
        "id": "view-in-github",
        "colab_type": "text"
      },
      "source": [
        "<a href=\"https://colab.research.google.com/github/duyqu-chan/Kairu-AI-Sprint-Bootcamps/blob/main/stratified_iris_classification.ipynb\" target=\"_parent\"><img src=\"https://colab.research.google.com/assets/colab-badge.svg\" alt=\"Open In Colab\"/></a>"
      ]
    },
    {
      "cell_type": "code",
      "execution_count": null,
      "metadata": {
        "colab": {
          "base_uri": "https://localhost:8080/"
        },
        "id": "bicgRB_NNAYt",
        "outputId": "f00e6329-8efa-49c6-f5af-97fef17bd893"
      },
      "outputs": [
        {
          "output_type": "stream",
          "name": "stdout",
          "text": [
            "X_train shape:  (120, 4)\n",
            "X_test shape:  (30, 4)\n"
          ]
        }
      ],
      "source": [
        "from sklearn.datasets import load_iris\n",
        "from sklearn.model_selection import train_test_split\n",
        "import pandas as pd\n",
        "from sklearn.linear_model import LogisticRegression\n",
        "from sklearn.metrics import accuracy_score, classification_report, confusion_matrix, precision_score, recall_score, f1_score, roc_auc_score\n",
        "\n",
        "# Load the Iris dataset\n",
        "iris = load_iris()\n",
        "\n",
        "X = iris.data\n",
        "y = iris.target\n",
        "\n",
        "X_train, x_test, y_train, y_test = train_test_split(X, y, test_size=0.2, random_state=42, stratify=y)\n",
        "print(\"X_train shape: \", X_train.shape)\n",
        "print(\"X_test shape: \", x_test.shape)\n",
        "\n",
        "model = LogisticRegression()\n",
        "model.fit(X_train, y_train)\n",
        "\n",
        "# test predictions\n",
        "y_test_pred = model.predict(x_test)\n",
        "\n",
        "# train predictions\n",
        "y_train_pred = model.predict(X_train)\n"
      ]
    },
    {
      "cell_type": "code",
      "source": [
        "# train accuracy\n",
        "train_accuracy = accuracy_score(y_train, y_train_pred)\n",
        "print(\"Training Accuracy: \", train_accuracy)\n",
        "\n",
        "# test accuracy\n",
        "test_accuracy = accuracy_score(y_test, y_test_pred)\n",
        "print(\"Test Accuracy: \", test_accuracy)\n",
        "\n",
        "# train - test difference\n",
        "print(\"Difference (Train - Test): \", train_accuracy - test_accuracy)\n",
        "\n",
        "# classification report of the test predictions\n",
        "train_report = classification_report(y_train, y_train_pred)\n",
        "print(\"Classification Report train set: \\n\", train_report)\n",
        "\n",
        "# classification report of the test predictions\n",
        "test_report = classification_report(y_test, y_test_pred)\n",
        "print(\"Classification Report test set: \\n\", test_report)"
      ],
      "metadata": {
        "colab": {
          "base_uri": "https://localhost:8080/"
        },
        "id": "8nytMJyiWEZP",
        "outputId": "ca6807c5-a3b7-48f2-bdf4-37e409ace4af"
      },
      "execution_count": null,
      "outputs": [
        {
          "output_type": "stream",
          "name": "stdout",
          "text": [
            "Training Accuracy:  0.975\n",
            "Test Accuracy:  0.9666666666666667\n",
            "Difference (Train - Test):  0.008333333333333304\n",
            "Classification Report train set: \n",
            "               precision    recall  f1-score   support\n",
            "\n",
            "           0       1.00      1.00      1.00        40\n",
            "           1       0.97      0.95      0.96        40\n",
            "           2       0.95      0.97      0.96        40\n",
            "\n",
            "    accuracy                           0.97       120\n",
            "   macro avg       0.98      0.97      0.97       120\n",
            "weighted avg       0.98      0.97      0.97       120\n",
            "\n",
            "Classification Report test set: \n",
            "               precision    recall  f1-score   support\n",
            "\n",
            "           0       1.00      1.00      1.00        10\n",
            "           1       1.00      0.90      0.95        10\n",
            "           2       0.91      1.00      0.95        10\n",
            "\n",
            "    accuracy                           0.97        30\n",
            "   macro avg       0.97      0.97      0.97        30\n",
            "weighted avg       0.97      0.97      0.97        30\n",
            "\n"
          ]
        }
      ]
    },
    {
      "cell_type": "code",
      "source": [
        "model = LogisticRegression(penalty=\"l2\",  )\n",
        "model.fit(X_train, y_train)\n",
        "\n",
        "# test predictions\n",
        "y_test_pred = model.predict(x_test)\n",
        "\n",
        "# train predictions\n",
        "y_train_pred = model.predict(X_train)"
      ],
      "metadata": {
        "id": "Pcj1cvLOYgYp"
      },
      "execution_count": null,
      "outputs": []
    },
    {
      "cell_type": "code",
      "source": [
        "# train accuracy\n",
        "train_accuracy = accuracy_score(y_train, y_train_pred)\n",
        "print(\"Training Accuracy: \", train_accuracy)\n",
        "\n",
        "# test accuracy\n",
        "test_accuracy = accuracy_score(y_test, y_test_pred)\n",
        "print(\"Test Accuracy: \", test_accuracy)\n",
        "\n",
        "# train - test difference\n",
        "print(\"Difference (Train - Test): \", train_accuracy - test_accuracy)\n",
        "\n",
        "# classification report of the test predictions\n",
        "train_report = classification_report(y_train, y_train_pred)\n",
        "print(\"Classification Report train set: \\n\", train_report)\n",
        "\n",
        "# classification report of the test predictions\n",
        "test_report = classification_report(y_test, y_test_pred)\n",
        "print(\"Classification Report test set: \\n\", test_report)"
      ],
      "metadata": {
        "colab": {
          "base_uri": "https://localhost:8080/"
        },
        "id": "441aW0g_ZqNn",
        "outputId": "b3e9d7e2-3f88-4b8b-deef-23eaf8510c31"
      },
      "execution_count": null,
      "outputs": [
        {
          "output_type": "stream",
          "name": "stdout",
          "text": [
            "Training Accuracy:  0.975\n",
            "Test Accuracy:  0.9666666666666667\n",
            "Difference (Train - Test):  0.008333333333333304\n",
            "Classification Report train set: \n",
            "               precision    recall  f1-score   support\n",
            "\n",
            "           0       1.00      1.00      1.00        40\n",
            "           1       0.97      0.95      0.96        40\n",
            "           2       0.95      0.97      0.96        40\n",
            "\n",
            "    accuracy                           0.97       120\n",
            "   macro avg       0.98      0.97      0.97       120\n",
            "weighted avg       0.98      0.97      0.97       120\n",
            "\n",
            "Classification Report test set: \n",
            "               precision    recall  f1-score   support\n",
            "\n",
            "           0       1.00      1.00      1.00        10\n",
            "           1       1.00      0.90      0.95        10\n",
            "           2       0.91      1.00      0.95        10\n",
            "\n",
            "    accuracy                           0.97        30\n",
            "   macro avg       0.97      0.97      0.97        30\n",
            "weighted avg       0.97      0.97      0.97        30\n",
            "\n"
          ]
        }
      ]
    }
  ]
}